{
 "cells": [
  {
   "cell_type": "code",
   "execution_count": 15,
   "metadata": {},
   "outputs": [
    {
     "data": {
      "text/plain": [
       "9117"
      ]
     },
     "execution_count": 15,
     "metadata": {},
     "output_type": "execute_result"
    }
   ],
   "source": [
    "import json\n",
    "import numpy as np\n",
    "import csv\n",
    "\n",
    "issues = []\n",
    "\n",
    "with open(\"data/issues.tsv\", 'r', encoding=\"utf-8\") as tsvin:\n",
    "    tsvin = csv.reader(tsvin, delimiter='\\t')\n",
    "    for row in tsvin:\n",
    "        columns = []\n",
    "        columns.append(row[1])\n",
    "        columns.append(row[2])\n",
    "        columns.append(row[3])\n",
    "        issues.append(columns)"
   ]
  },
  {
   "cell_type": "code",
   "execution_count": 16,
   "metadata": {},
   "outputs": [
    {
     "data": {
      "text/plain": [
       "['question', 'answer', 'category']"
      ]
     },
     "execution_count": 16,
     "metadata": {},
     "output_type": "execute_result"
    }
   ],
   "source": [
    "# Create texts\n",
    "import re\n",
    "\n",
    "sub_texts = []    \n",
    "    \n",
    "# Filter\n",
    "for t in issues:\n",
    "    a = ''    \n",
    "    a = re.compile('[0-9]+').sub('0', a)\n",
    "    a = re.compile('[a-z0-9_+-.]+@[a-z0-9_+-.]+').sub('', a)\n",
    "    # ...\n",
    "\n",
    "    columns = []\n",
    "    columns.append(a)\n",
    "    columns.append(t[1])\n",
    "    columns.append(t[2])\n",
    "\n",
    "    if len(a) > 0:\n",
    "        sub_texts.append(columns)\n",
    "    \n",
    "sub_texts.pop(0)"
   ]
  },
  {
   "cell_type": "code",
   "execution_count": 17,
   "metadata": {
    "scrolled": false
   },
   "outputs": [],
   "source": [
    "# Create labels\n",
    "labels = []\n",
    "texts = []\n",
    "threashold = 700\n",
    "cnt1 = 0\n",
    "cnt2 = 0\n",
    "cnt3 = 0\n",
    "\n",
    "for i, row in enumerate(sub_texts):\n",
    "    if 'アカウント' in row[2]:\n",
    "        if cnt2 < threashold:\n",
    "            cnt2 += 1\n",
    "            labels.append(2)\n",
    "            texts.append(row[0])\n",
    "    elif '課金' in row[2]:\n",
    "        if cnt3 < threashold:\n",
    "            cnt3 += 1\n",
    "            labels.append(3)\n",
    "            texts.append(row[0])\n",
    "    else:\n",
    "        if cnt1 < threashold:\n",
    "            cnt1 += 1\n",
    "            texts.append(row[0])\n",
    "            labels.append(1)"
   ]
  },
  {
   "cell_type": "code",
   "execution_count": 18,
   "metadata": {},
   "outputs": [],
   "source": [
    "import MeCab\n",
    "import re\n",
    "\n",
    "def tokenize(text):\n",
    "    wakati = MeCab.Tagger(\"-O wakati\")\n",
    "    wakati.parse(\"\")\n",
    "    words = wakati.parse(text)\n",
    "    \n",
    "    if words[-1] == u\"\\n\":\n",
    "        words = words[:-1]\n",
    "        \n",
    "    return words\n",
    "\n",
    "texts = [tokenize(a) for a in texts]"
   ]
  },
  {
   "cell_type": "code",
   "execution_count": 19,
   "metadata": {},
   "outputs": [],
   "source": [
    "from keras.utils.np_utils import to_categorical\n",
    "\n",
    "categorical_labels = to_categorical(labels)"
   ]
  },
  {
   "cell_type": "code",
   "execution_count": 20,
   "metadata": {},
   "outputs": [
    {
     "name": "stdout",
     "output_type": "stream",
     "text": [
      "Found 6831 unique tokens.\n",
      "Shape of data tensor:(2088, 1000)\n",
      "Shape of label tensor:(2088, 4)\n",
      "2088\n",
      "2088\n"
     ]
    }
   ],
   "source": [
    "from keras.preprocessing.text import Tokenizer\n",
    "from keras.preprocessing.sequence import pad_sequences\n",
    "import numpy as np\n",
    "\n",
    "maxlen = 1000\n",
    "training_samples = 1600\n",
    "validation_samples = len(texts) - training_samples\n",
    "max_words = 15000\n",
    "\n",
    "tokenizer = Tokenizer(num_words=max_words)\n",
    "tokenizer.fit_on_texts(texts)\n",
    "sequences = tokenizer.texts_to_sequences(texts)\n",
    "\n",
    "word_index = tokenizer.word_index\n",
    "print(\"Found {} unique tokens.\".format(len(word_index)))\n",
    "\n",
    "data = pad_sequences(sequences, maxlen=maxlen)\n",
    "\n",
    "labels = np.asarray(categorical_labels)\n",
    "print(\"Shape of data tensor:{}\".format(data.shape))\n",
    "print(\"Shape of label tensor:{}\".format(labels.shape))\n",
    "\n",
    "indices = np.arange(data.shape[0])\n",
    "np.random.shuffle(indices)\n",
    "data = data[indices]\n",
    "print(len(labels))\n",
    "print(len(indices))\n",
    "labels = labels[indices]\n",
    "\n",
    "x_train = data[:training_samples]\n",
    "y_train = labels[:training_samples]\n",
    "x_val = data[training_samples: training_samples + validation_samples]\n",
    "y_val = labels[training_samples: training_samples + validation_samples]"
   ]
  },
  {
   "cell_type": "code",
   "execution_count": 28,
   "metadata": {},
   "outputs": [
    {
     "name": "stdout",
     "output_type": "stream",
     "text": [
      "_________________________________________________________________\n",
      "Layer (type)                 Output Shape              Param #   \n",
      "=================================================================\n",
      "embedding_4 (Embedding)      (None, 1000, 100)         1500000   \n",
      "_________________________________________________________________\n",
      "bidirectional_3 (Bidirection (None, 64)                34048     \n",
      "_________________________________________________________________\n",
      "dense_4 (Dense)              (None, 4)                 260       \n",
      "=================================================================\n",
      "Total params: 1,534,308\n",
      "Trainable params: 1,534,308\n",
      "Non-trainable params: 0\n",
      "_________________________________________________________________\n",
      "Train on 1600 samples, validate on 488 samples\n",
      "Epoch 1/25\n",
      "1600/1600 [==============================] - 26s 17ms/step - loss: 1.3293 - acc: 0.3731 - val_loss: 1.2410 - val_acc: 0.3299\n",
      "Epoch 2/25\n",
      "1600/1600 [==============================] - 25s 16ms/step - loss: 1.1442 - acc: 0.3594 - val_loss: 1.1014 - val_acc: 0.4406\n",
      "Epoch 3/25\n",
      "1600/1600 [==============================] - 25s 16ms/step - loss: 1.0978 - acc: 0.3869 - val_loss: 1.0944 - val_acc: 0.3443\n",
      "Epoch 4/25\n",
      "1600/1600 [==============================] - 25s 16ms/step - loss: 1.0792 - acc: 0.4337 - val_loss: 1.0622 - val_acc: 0.4898\n",
      "Epoch 5/25\n",
      "1600/1600 [==============================] - 25s 16ms/step - loss: 1.0148 - acc: 0.5538 - val_loss: 0.9510 - val_acc: 0.5963\n",
      "Epoch 6/25\n",
      "1600/1600 [==============================] - 25s 16ms/step - loss: 0.8934 - acc: 0.5894 - val_loss: 0.8499 - val_acc: 0.5902\n",
      "Epoch 7/25\n",
      "1600/1600 [==============================] - 25s 16ms/step - loss: 0.7257 - acc: 0.6200 - val_loss: 0.6830 - val_acc: 0.6824\n",
      "Epoch 8/25\n",
      "1600/1600 [==============================] - 25s 16ms/step - loss: 0.6061 - acc: 0.7163 - val_loss: 0.6386 - val_acc: 0.6762\n",
      "Epoch 9/25\n",
      "1600/1600 [==============================] - 25s 16ms/step - loss: 0.5634 - acc: 0.7094 - val_loss: 0.6513 - val_acc: 0.6557\n",
      "Epoch 10/25\n",
      "1600/1600 [==============================] - 25s 16ms/step - loss: 0.6002 - acc: 0.6975 - val_loss: 0.7110 - val_acc: 0.6025\n",
      "Epoch 11/25\n",
      "1600/1600 [==============================] - 25s 16ms/step - loss: 0.5440 - acc: 0.7350 - val_loss: 0.6120 - val_acc: 0.7152\n",
      "Epoch 12/25\n",
      "1600/1600 [==============================] - 25s 16ms/step - loss: 0.5166 - acc: 0.7500 - val_loss: 0.6005 - val_acc: 0.7111\n",
      "Epoch 13/25\n",
      "1600/1600 [==============================] - 25s 16ms/step - loss: 0.4882 - acc: 0.8344 - val_loss: 0.5277 - val_acc: 0.8586\n",
      "Epoch 14/25\n",
      "1600/1600 [==============================] - 25s 16ms/step - loss: 0.4219 - acc: 0.8987 - val_loss: 0.5002 - val_acc: 0.8873\n",
      "Epoch 15/25\n",
      "1600/1600 [==============================] - 25s 16ms/step - loss: 0.3606 - acc: 0.9244 - val_loss: 0.4810 - val_acc: 0.8770\n",
      "Epoch 16/25\n",
      "1600/1600 [==============================] - 25s 16ms/step - loss: 0.2944 - acc: 0.9444 - val_loss: 0.4260 - val_acc: 0.8730\n",
      "Epoch 17/25\n",
      "1600/1600 [==============================] - 25s 16ms/step - loss: 0.2245 - acc: 0.9556 - val_loss: 0.3810 - val_acc: 0.8914\n",
      "Epoch 18/25\n",
      "1600/1600 [==============================] - 25s 16ms/step - loss: 0.1801 - acc: 0.9588 - val_loss: 0.3899 - val_acc: 0.8914\n",
      "Epoch 19/25\n",
      "1600/1600 [==============================] - 25s 16ms/step - loss: 0.1483 - acc: 0.9681 - val_loss: 0.3665 - val_acc: 0.8914\n",
      "Epoch 20/25\n",
      "1600/1600 [==============================] - 25s 16ms/step - loss: 0.1339 - acc: 0.9687 - val_loss: 0.3592 - val_acc: 0.8996\n",
      "Epoch 21/25\n",
      "1600/1600 [==============================] - 25s 16ms/step - loss: 0.1174 - acc: 0.9744 - val_loss: 0.3811 - val_acc: 0.8873\n",
      "Epoch 22/25\n",
      "1600/1600 [==============================] - 25s 16ms/step - loss: 0.1220 - acc: 0.9713 - val_loss: 0.4685 - val_acc: 0.8730\n",
      "Epoch 23/25\n",
      "1600/1600 [==============================] - 25s 16ms/step - loss: 0.1962 - acc: 0.9513 - val_loss: 0.4437 - val_acc: 0.8648\n",
      "Epoch 24/25\n",
      "1600/1600 [==============================] - 25s 16ms/step - loss: 0.1181 - acc: 0.9744 - val_loss: 0.3690 - val_acc: 0.8914\n",
      "Epoch 25/25\n",
      "1600/1600 [==============================] - 25s 16ms/step - loss: 0.0938 - acc: 0.9800 - val_loss: 0.3504 - val_acc: 0.9016\n"
     ]
    }
   ],
   "source": [
    "from keras.models import Sequential\n",
    "from keras.layers import Flatten, Dense, Embedding\n",
    "from keras.layers import LSTM, Bidirectional\n",
    "import tensorflow as tf\n",
    "\n",
    "model = Sequential()\n",
    "model.add(Embedding(15000, 100, input_length=maxlen))\n",
    "model.add(Bidirectional(LSTM(32)))\n",
    "model.add(Dense(4, activation='sigmoid'))\n",
    "model.compile(optimizer='adam', loss='categorical_crossentropy', metrics=['acc'])\n",
    "model.summary()\n",
    "\n",
    "history = model.fit(x_train, y_train, epochs=25, batch_size=100, validation_split=0.2, validation_data=(x_val, y_val))"
   ]
  },
  {
   "cell_type": "code",
   "execution_count": 29,
   "metadata": {},
   "outputs": [
    {
     "data": {
      "image/png": "[encoded data removed]",
      "text/plain": [
       "<matplotlib.figure.Figure at 0x7fa5ad3a55f8>"
      ]
     },
     "metadata": {},
     "output_type": "display_data"
    },
    {
     "data": {
      "image/png": "[encoded data removed]",
      "text/plain": [
       "<matplotlib.figure.Figure at 0x7fa5ad3e71d0>"
      ]
     },
     "metadata": {},
     "output_type": "display_data"
    }
   ],
   "source": [
    "%matplotlib inline\n",
    "\n",
    "import matplotlib.pyplot as plt\n",
    "\n",
    "acc = history.history['acc']\n",
    "val_acc = history.history['val_acc']\n",
    "loss = history.history['loss']\n",
    "val_loss = history.history['val_loss']\n",
    "\n",
    "epochs = range(1, len(acc) + 1)\n",
    "\n",
    "plt.plot(epochs, acc, 'bo', label='Training acc')\n",
    "plt.plot(epochs, val_acc, 'b', label='Validation acc')\n",
    "plt.title('Training and validation accuracy')\n",
    "plt.legend()\n",
    "\n",
    "plt.figure()\n",
    "\n",
    "plt.plot(epochs, loss, 'bo', label='Training loss')\n",
    "plt.plot(epochs, val_loss, 'b', label='Validation loss')\n",
    "plt.title('Training and validation loss')\n",
    "plt.legend()\n",
    "\n",
    "plt.show()"
   ]
  }
 ],
 "metadata": {
  "kernelspec": {
   "display_name": "Python 3",
   "language": "python",
   "name": "python3"
  },
  "language_info": {
   "codemirror_mode": {
    "name": "ipython",
    "version": 3
   },
   "file_extension": ".py",
   "mimetype": "text/x-python",
   "name": "python",
   "nbconvert_exporter": "python",
   "pygments_lexer": "ipython3",
   "version": "3.5.2"
  }
 },
 "nbformat": 4,
 "nbformat_minor": 2
}
