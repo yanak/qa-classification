{
 "cells": [
  {
   "cell_type": "code",
   "execution_count": 1,
   "metadata": {},
   "outputs": [
    {
     "data": {
      "text/plain": [
       "9117"
      ]
     },
     "execution_count": 1,
     "metadata": {},
     "output_type": "execute_result"
    }
   ],
   "source": [
    "import json\n",
    "import numpy as np\n",
    "import csv\n",
    "\n",
    "issues = []\n",
    "\n",
    "with open(\"data/leo/issues.tsv\", 'r', encoding=\"utf-8\") as tsvin:\n",
    "    tsvin = csv.reader(tsvin, delimiter='\\t')\n",
    "    \n",
    "    for row in tsvin:\n",
    "        columns = []\n",
    "        columns.append(row[1])\n",
    "        columns.append(row[2])\n",
    "        columns.append(row[3])\n",
    "        \n",
    "        issues.append(columns)"
   ]
  },
  {
   "cell_type": "code",
   "execution_count": 2,
   "metadata": {},
   "outputs": [
    {
     "data": {
      "text/plain": [
       "['question', 'answer', 'category']"
      ]
     },
     "execution_count": 2,
     "metadata": {},
     "output_type": "execute_result"
    }
   ],
   "source": [
    "# Create texts\n",
    "import re\n",
    "\n",
    "sub_texts = []    \n",
    "    \n",
    "# Filter\n",
    "for t in issues:\n",
    "    a = ''\n",
    "    a = re.compile('[0-9]+').sub('0', a)\n",
    "    a = re.compile('[a-z0-9_+-.]+@[a-z0-9_+-.]+').sub('', a)\n",
    "\n",
    "    columns = []\n",
    "    columns.append(a)\n",
    "    columns.append(t[1])\n",
    "    columns.append(t[2])\n",
    "\n",
    "    if len(a) > 0:\n",
    "        sub_texts.append(columns)\n",
    "    \n",
    "sub_texts.pop(0)"
   ]
  },
  {
   "cell_type": "code",
   "execution_count": 3,
   "metadata": {
    "scrolled": false
   },
   "outputs": [],
   "source": [
    "# Create labels\n",
    "labels = []\n",
    "texts = []\n",
    "threashold = 700\n",
    "cnt1 = 0\n",
    "cnt2 = 0\n",
    "cnt3 = 0\n",
    "\n",
    "for i, row in enumerate(sub_texts):\n",
    "    if 'アカウント' in row[2]:\n",
    "        if cnt2 < threashold:\n",
    "            cnt2 += 1\n",
    "            labels.append(2)\n",
    "            texts.append(row[0])\n",
    "    elif '課金' in row[2]:\n",
    "        if cnt3 < threashold:\n",
    "            cnt3 += 1\n",
    "            labels.append(3)\n",
    "            texts.append(row[0])\n",
    "    else:\n",
    "        if cnt1 < threashold:\n",
    "            cnt1 += 1\n",
    "            texts.append(row[0])\n",
    "            labels.append(1)"
   ]
  },
  {
   "cell_type": "code",
   "execution_count": 4,
   "metadata": {},
   "outputs": [],
   "source": [
    "import MeCab\n",
    "import re\n",
    "\n",
    "def tokenize(text):\n",
    "    wakati = MeCab.Tagger(\"-O wakati\")\n",
    "    wakati.parse(\"\")\n",
    "    words = wakati.parse(text)\n",
    "    \n",
    "    if words[-1] == u\"\\n\":\n",
    "        words = words[:-1]\n",
    "        \n",
    "    return words\n",
    "\n",
    "texts = [tokenize(a) for a in texts]"
   ]
  },
  {
   "cell_type": "code",
   "execution_count": 5,
   "metadata": {},
   "outputs": [
    {
     "name": "stderr",
     "output_type": "stream",
     "text": [
      "/home/jupyter/tensorflow/lib/python3.5/site-packages/h5py/__init__.py:36: FutureWarning: Conversion of the second argument of issubdtype from `float` to `np.floating` is deprecated. In future, it will be treated as `np.float64 == np.dtype(float).type`.\n",
      "  from ._conv import register_converters as _register_converters\n",
      "Using TensorFlow backend.\n"
     ]
    }
   ],
   "source": [
    "from keras.utils.np_utils import to_categorical\n",
    "\n",
    "categorical_labels = to_categorical(labels)"
   ]
  },
  {
   "cell_type": "code",
   "execution_count": 6,
   "metadata": {},
   "outputs": [
    {
     "name": "stdout",
     "output_type": "stream",
     "text": [
      "Found 6831 unique tokens.\n",
      "Shape of data tensor:(2088, 1000)\n",
      "Shape of label tensor:(2088, 4)\n",
      "2088\n",
      "2088\n"
     ]
    }
   ],
   "source": [
    "from keras.preprocessing.text import Tokenizer\n",
    "from keras.preprocessing.sequence import pad_sequences\n",
    "import numpy as np\n",
    "\n",
    "maxlen = 1000\n",
    "training_samples = 1600\n",
    "validation_samples = len(texts) - training_samples\n",
    "max_words = 15000\n",
    "\n",
    "tokenizer = Tokenizer(num_words=max_words)\n",
    "tokenizer.fit_on_texts(texts)\n",
    "sequences = tokenizer.texts_to_sequences(texts)\n",
    "\n",
    "word_index = tokenizer.word_index\n",
    "print(\"Found {} unique tokens.\".format(len(word_index)))\n",
    "\n",
    "data = pad_sequences(sequences, maxlen=maxlen)\n",
    "\n",
    "labels = np.asarray(categorical_labels)\n",
    "\n",
    "print(\"Shape of data tensor:{}\".format(data.shape))\n",
    "print(\"Shape of label tensor:{}\".format(labels.shape))\n",
    "\n",
    "indices = np.arange(data.shape[0])\n",
    "np.random.shuffle(indices)\n",
    "data = data[indices]\n",
    "print(len(labels))\n",
    "print(len(indices))\n",
    "labels = labels[indices]\n",
    "\n",
    "x_train = data[:training_samples]\n",
    "y_train = labels[:training_samples]\n",
    "x_val = data[training_samples: training_samples + validation_samples]\n",
    "y_val = labels[training_samples: training_samples + validation_samples]"
   ]
  },
  {
   "cell_type": "code",
   "execution_count": 11,
   "metadata": {},
   "outputs": [
    {
     "name": "stdout",
     "output_type": "stream",
     "text": [
      "_________________________________________________________________\n",
      "Layer (type)                 Output Shape              Param #   \n",
      "=================================================================\n",
      "embedding_4 (Embedding)      (None, 1000, 100)         1500000   \n",
      "_________________________________________________________________\n",
      "lstm_9 (LSTM)                (None, 1000, 32)          17024     \n",
      "_________________________________________________________________\n",
      "lstm_10 (LSTM)               (None, 32)                8320      \n",
      "_________________________________________________________________\n",
      "dense_4 (Dense)              (None, 4)                 132       \n",
      "=================================================================\n",
      "Total params: 1,525,476\n",
      "Trainable params: 1,525,476\n",
      "Non-trainable params: 0\n",
      "_________________________________________________________________\n",
      "Train on 1600 samples, validate on 488 samples\n",
      "Epoch 1/25\n",
      "1600/1600 [==============================] - 15s 9ms/step - loss: 1.3608 - acc: 0.3169 - val_loss: 1.2998 - val_acc: 0.3504\n",
      "Epoch 2/25\n",
      "1600/1600 [==============================] - 14s 9ms/step - loss: 1.1823 - acc: 0.3231 - val_loss: 1.1097 - val_acc: 0.3504\n",
      "Epoch 3/25\n",
      "1600/1600 [==============================] - 14s 9ms/step - loss: 1.1049 - acc: 0.3413 - val_loss: 1.1020 - val_acc: 0.3217\n",
      "Epoch 4/25\n",
      "1600/1600 [==============================] - 14s 9ms/step - loss: 1.1008 - acc: 0.3375 - val_loss: 1.1018 - val_acc: 0.3279\n",
      "Epoch 5/25\n",
      "1600/1600 [==============================] - 14s 9ms/step - loss: 1.0995 - acc: 0.3350 - val_loss: 1.0985 - val_acc: 0.3443\n",
      "Epoch 6/25\n",
      "1600/1600 [==============================] - 14s 9ms/step - loss: 1.0978 - acc: 0.3438 - val_loss: 1.0964 - val_acc: 0.3381\n",
      "Epoch 7/25\n",
      "1600/1600 [==============================] - 14s 9ms/step - loss: 1.0935 - acc: 0.3456 - val_loss: 1.0827 - val_acc: 0.3586\n",
      "Epoch 8/25\n",
      "1600/1600 [==============================] - 14s 9ms/step - loss: 1.0748 - acc: 0.3706 - val_loss: 1.0348 - val_acc: 0.4057\n",
      "Epoch 9/25\n",
      "1600/1600 [==============================] - 14s 9ms/step - loss: 1.0170 - acc: 0.4981 - val_loss: 0.9222 - val_acc: 0.6209\n",
      "Epoch 10/25\n",
      "1600/1600 [==============================] - 14s 9ms/step - loss: 0.8939 - acc: 0.5969 - val_loss: 0.7338 - val_acc: 0.6598\n",
      "Epoch 11/25\n",
      "1600/1600 [==============================] - 14s 9ms/step - loss: 0.7577 - acc: 0.6513 - val_loss: 0.6527 - val_acc: 0.6475\n",
      "Epoch 12/25\n",
      "1600/1600 [==============================] - 14s 9ms/step - loss: 0.6475 - acc: 0.7194 - val_loss: 0.6053 - val_acc: 0.8012\n",
      "Epoch 13/25\n",
      "1600/1600 [==============================] - 14s 9ms/step - loss: 0.5801 - acc: 0.7756 - val_loss: 0.5809 - val_acc: 0.7398\n",
      "Epoch 14/25\n",
      "1600/1600 [==============================] - 14s 9ms/step - loss: 0.5352 - acc: 0.8044 - val_loss: 0.5566 - val_acc: 0.7889\n",
      "Epoch 15/25\n",
      "1600/1600 [==============================] - 14s 9ms/step - loss: 0.4889 - acc: 0.8313 - val_loss: 0.5015 - val_acc: 0.8033\n",
      "Epoch 16/25\n",
      "1600/1600 [==============================] - 14s 9ms/step - loss: 0.4844 - acc: 0.8206 - val_loss: 0.4636 - val_acc: 0.8730\n",
      "Epoch 17/25\n",
      "1600/1600 [==============================] - 14s 9ms/step - loss: 0.4064 - acc: 0.8750 - val_loss: 0.5107 - val_acc: 0.7889\n",
      "Epoch 18/25\n",
      "1600/1600 [==============================] - 14s 9ms/step - loss: 0.3921 - acc: 0.8994 - val_loss: 0.4379 - val_acc: 0.8689\n",
      "Epoch 19/25\n",
      "1600/1600 [==============================] - 14s 9ms/step - loss: 0.3322 - acc: 0.9225 - val_loss: 0.4957 - val_acc: 0.8074\n",
      "Epoch 20/25\n",
      "1600/1600 [==============================] - 14s 9ms/step - loss: 0.3431 - acc: 0.8900 - val_loss: 0.3615 - val_acc: 0.8934\n",
      "Epoch 21/25\n",
      "1600/1600 [==============================] - 14s 9ms/step - loss: 0.2774 - acc: 0.9163 - val_loss: 0.3656 - val_acc: 0.8689\n",
      "Epoch 22/25\n",
      "1600/1600 [==============================] - 14s 9ms/step - loss: 0.2396 - acc: 0.9381 - val_loss: 0.4065 - val_acc: 0.8545\n",
      "Epoch 23/25\n",
      "1600/1600 [==============================] - 14s 9ms/step - loss: 0.2349 - acc: 0.9394 - val_loss: 0.3604 - val_acc: 0.8832\n",
      "Epoch 24/25\n",
      "1600/1600 [==============================] - 14s 9ms/step - loss: 0.2067 - acc: 0.9481 - val_loss: 0.3612 - val_acc: 0.8811\n",
      "Epoch 25/25\n",
      "1600/1600 [==============================] - 14s 9ms/step - loss: 0.1884 - acc: 0.9525 - val_loss: 0.3865 - val_acc: 0.8689\n"
     ]
    }
   ],
   "source": [
    "from keras.models import Sequential\n",
    "from keras.layers import Flatten, Dense, Embedding\n",
    "from keras.layers import LSTM, Bidirectional\n",
    "import tensorflow as tf\n",
    "\n",
    "with tf.device('/cpu:0'):\n",
    "    model = Sequential()\n",
    "    model.add(Embedding(15000, 100, input_length=maxlen))\n",
    "    model.add(LSTM(32, return_sequences=True, recurrent_dropout=0.2))\n",
    "    model.add(LSTM(32))\n",
    "    model.add(Dense(4, activation='sigmoid'))\n",
    "    model.compile(optimizer='adam', loss='categorical_crossentropy', metrics=['acc'])\n",
    "    model.summary()\n",
    "\n",
    "history = model.fit(x_train, y_train, epochs=25, batch_size=100, validation_split=0.2, validation_data=(x_val, y_val))"
   ]
  },
  {
   "cell_type": "code",
   "execution_count": 10,
   "metadata": {},
   "outputs": [
    {
     "data": {
      "image/png": "[encoded data removed]",
      "text/plain": [
       "<matplotlib.figure.Figure at 0x7f0ee68e60b8>"
      ]
     },
     "metadata": {},
     "output_type": "display_data"
    },
    {
     "data": {
      "image/png": "[encoded data removed]",
      "text/plain": [
       "<matplotlib.figure.Figure at 0x7f0ee69e7668>"
      ]
     },
     "metadata": {},
     "output_type": "display_data"
    }
   ],
   "source": [
    "%matplotlib inline\n",
    "\n",
    "import matplotlib.pyplot as plt\n",
    "\n",
    "acc = history.history['acc']\n",
    "val_acc = history.history['val_acc']\n",
    "loss = history.history['loss']\n",
    "val_loss = history.history['val_loss']\n",
    "\n",
    "epochs = range(1, len(acc) + 1)\n",
    "\n",
    "plt.plot(epochs, acc, 'bo', label='Training acc')\n",
    "plt.plot(epochs, val_acc, 'b', label='Validation acc')\n",
    "plt.title('Training and validation accuracy')\n",
    "plt.legend()\n",
    "\n",
    "plt.figure()\n",
    "\n",
    "plt.plot(epochs, loss, 'bo', label='Training loss')\n",
    "plt.plot(epochs, val_loss, 'b', label='Validation loss')\n",
    "plt.title('Training and validation loss')\n",
    "plt.legend()\n",
    "\n",
    "plt.show()"
   ]
  }
 ],
 "metadata": {
  "kernelspec": {
   "display_name": "Python 3",
   "language": "python",
   "name": "python3"
  },
  "language_info": {
   "codemirror_mode": {
    "name": "ipython",
    "version": 3
   },
   "file_extension": ".py",
   "mimetype": "text/x-python",
   "name": "python",
   "nbconvert_exporter": "python",
   "pygments_lexer": "ipython3",
   "version": "3.5.2"
  }
 },
 "nbformat": 4,
 "nbformat_minor": 2
}
