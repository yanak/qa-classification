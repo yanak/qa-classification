{
 "cells": [
  {
   "cell_type": "code",
   "execution_count": 1,
   "metadata": {},
   "outputs": [],
   "source": [
    "import json\n",
    "import numpy as np\n",
    "import csv\n",
    "\n",
    "questions = []\n",
    "\n",
    "with open(\"data/questions.tsv\", 'r', encoding=\"utf-8\") as tsvin:\n",
    "    tsvin = csv.reader(tsvin, delimiter='\\t')\n",
    "\n",
    "    for row in tsvin:\n",
    "        columns = []\n",
    "        columns.append(row[1])\n",
    "        columns.append(row[2])\n",
    "        columns.append(row[3])\n",
    "        \n",
    "        questions.append(columns)"
   ]
  },
  {
   "cell_type": "code",
   "execution_count": 2,
   "metadata": {},
   "outputs": [
    {
     "data": {
      "text/plain": [
       "['question', 'answer', 'category']"
      ]
     },
     "execution_count": 2,
     "metadata": {},
     "output_type": "execute_result"
    }
   ],
   "source": [
    "import re\n",
    "\n",
    "sub_questions = []    \n",
    "for t in questions:\n",
    "    result = re.compile('-+').sub('', t)\n",
    "    result = re.compile('[0-9]+').sub('0', result)\n",
    "    result = re.compile('\\s+').sub('', result)\n",
    "    # ... and many regular expression substitutions\n",
    "\n",
    "    columns = []\n",
    "    columns.append(result)\n",
    "    columns.append(t[1])\n",
    "    columns.append(t[2])\n",
    "\n",
    "    # remove empty string question\n",
    "    if len(a) > 0:\n",
    "        sub_questions.append(columns)\n",
    "\n",
    "# remove header\n",
    "sub_questions.pop(0)"
   ]
  },
  {
   "cell_type": "markdown",
   "metadata": {},
   "source": [
    "# Create samples and labels\n",
    "\n",
    "Cap the samples' size it's 700 samples because the payment label has only 688 samples. Define the labels 'Account' as 2, 'Payment' as 3, and the other all labels as 1."
   ]
  },
  {
   "cell_type": "code",
   "execution_count": 5,
   "metadata": {
    "scrolled": false
   },
   "outputs": [],
   "source": [
    "labels = []\n",
    "texts = []\n",
    "threashold = 700\n",
    "cnt1 = 0\n",
    "cnt2 = 0\n",
    "cnt3 = 0\n",
    "\n",
    "for i, row in enumerate(sub_questions):\n",
    "    if 'Account' in row[2]:\n",
    "        if cnt2 < threashold:\n",
    "            cnt2 += 1\n",
    "            labels.append(2)\n",
    "            texts.append(row[0])\n",
    "    elif 'Payment' in row[2]:\n",
    "        if cnt3 < threashold:\n",
    "            cnt3 += 1\n",
    "            labels.append(3)\n",
    "            texts.append(row[0])\n",
    "    else:\n",
    "        if cnt1 < threashold:\n",
    "            cnt1 += 1\n",
    "            texts.append(row[0])\n",
    "            labels.append(1)"
   ]
  },
  {
   "cell_type": "markdown",
   "metadata": {},
   "source": [
    "The labels 1 and 2 have 700 samples, and the 3 has 688 samples."
   ]
  },
  {
   "cell_type": "code",
   "execution_count": 6,
   "metadata": {
    "scrolled": true
   },
   "outputs": [
    {
     "data": {
      "text/plain": [
       "{1: 700, 2: 700, 3: 688}"
      ]
     },
     "execution_count": 6,
     "metadata": {},
     "output_type": "execute_result"
    }
   ],
   "source": [
    "a = np.asarray(labels)\n",
    "unique, counts = np.unique(a, return_counts=True)\n",
    "dict(zip(unique, counts))"
   ]
  },
  {
   "cell_type": "code",
   "execution_count": 7,
   "metadata": {},
   "outputs": [],
   "source": [
    "import MeCab\n",
    "import re\n",
    "\n",
    "def tokenize(text):\n",
    "    wakati = MeCab.Tagger(\"-O wakati\")\n",
    "    wakati.parse(\"\")\n",
    "    words = wakati.parse(text)\n",
    "    \n",
    "    if words[-1] == u\"\\n\":\n",
    "        words = words[:-1]\n",
    "        \n",
    "    return words\n",
    "\n",
    "texts = [tokenize(a) for a in texts]"
   ]
  },
  {
   "cell_type": "code",
   "execution_count": 10,
   "metadata": {},
   "outputs": [
    {
     "name": "stdout",
     "output_type": "stream",
     "text": [
      "Found 6831 unique tokens.\n",
      "Shape of data tensor:(2088, 1000)\n",
      "Shape of label tensor:(2088, 4)\n",
      "2088\n",
      "2088\n"
     ]
    }
   ],
   "source": [
    "from keras.preprocessing.text import Tokenizer\n",
    "from keras.preprocessing.sequence import pad_sequences\n",
    "from keras.utils.np_utils import to_categorical\n",
    "import numpy as np\n",
    "\n",
    "maxlen = 1000\n",
    "training_samples = 1600\n",
    "validation_samples = len(texts) - training_samples\n",
    "max_words = 15000\n",
    "\n",
    "tokenizer = Tokenizer(num_words=max_words)\n",
    "tokenizer.fit_on_texts(texts)\n",
    "sequences = tokenizer.texts_to_sequences(texts)\n",
    "\n",
    "word_index = tokenizer.word_index\n",
    "print(\"Found {} unique tokens.\".format(len(word_index)))\n",
    "\n",
    "data = pad_sequences(sequences, maxlen=maxlen)\n",
    "labels = np.asarray(to_categorical(labels))\n",
    "\n",
    "print(\"Shape of data tensor:{}\".format(data.shape))\n",
    "print(\"Shape of label tensor:{}\".format(labels.shape))\n",
    "\n",
    "indices = np.arange(data.shape[0])\n",
    "np.random.shuffle(indices)\n",
    "data = data[indices]\n",
    "print(len(labels))\n",
    "print(len(indices))\n",
    "labels = labels[indices]\n",
    "\n",
    "x_train = data[:training_samples]\n",
    "y_train = labels[:training_samples]\n",
    "x_val = data[training_samples: training_samples + validation_samples]\n",
    "y_val = labels[training_samples: training_samples + validation_samples]"
   ]
  },
  {
   "cell_type": "code",
   "execution_count": 16,
   "metadata": {
    "scrolled": true
   },
   "outputs": [
    {
     "name": "stdout",
     "output_type": "stream",
     "text": [
      "_________________________________________________________________\n",
      "Layer (type)                 Output Shape              Param #   \n",
      "=================================================================\n",
      "embedding_4 (Embedding)      (None, 1000, 100)         1500000   \n",
      "_________________________________________________________________\n",
      "lstm_4 (LSTM)                (None, 32)                17024     \n",
      "_________________________________________________________________\n",
      "dense_4 (Dense)              (None, 4)                 132       \n",
      "=================================================================\n",
      "Total params: 1,517,156\n",
      "Trainable params: 1,517,156\n",
      "Non-trainable params: 0\n",
      "_________________________________________________________________\n",
      "Train on 1600 samples, validate on 488 samples\n",
      "Epoch 1/18\n",
      "1600/1600 [==============================] - 10s 7ms/step - loss: 1.3565 - acc: 0.3175 - val_loss: 1.3001 - val_acc: 0.3689\n",
      "Epoch 2/18\n",
      "1600/1600 [==============================] - 10s 6ms/step - loss: 1.2254 - acc: 0.3262 - val_loss: 1.1445 - val_acc: 0.3668\n",
      "Epoch 3/18\n",
      "1600/1600 [==============================] - 10s 6ms/step - loss: 1.1235 - acc: 0.3300 - val_loss: 1.0990 - val_acc: 0.4016\n",
      "Epoch 4/18\n",
      "1600/1600 [==============================] - 10s 6ms/step - loss: 1.0818 - acc: 0.4244 - val_loss: 1.0736 - val_acc: 0.4324\n",
      "Epoch 5/18\n",
      "1600/1600 [==============================] - 10s 6ms/step - loss: 1.0296 - acc: 0.5144 - val_loss: 0.9769 - val_acc: 0.5984\n",
      "Epoch 6/18\n",
      "1600/1600 [==============================] - 10s 6ms/step - loss: 0.8892 - acc: 0.7094 - val_loss: 0.8366 - val_acc: 0.7459\n",
      "Epoch 7/18\n",
      "1600/1600 [==============================] - 10s 6ms/step - loss: 0.7476 - acc: 0.8131 - val_loss: 0.6935 - val_acc: 0.8443\n",
      "Epoch 8/18\n",
      "1600/1600 [==============================] - 10s 6ms/step - loss: 0.6049 - acc: 0.8775 - val_loss: 0.5753 - val_acc: 0.8627\n",
      "Epoch 9/18\n",
      "1600/1600 [==============================] - 10s 6ms/step - loss: 0.4653 - acc: 0.9131 - val_loss: 0.4677 - val_acc: 0.8852\n",
      "Epoch 10/18\n",
      "1600/1600 [==============================] - 10s 6ms/step - loss: 0.3360 - acc: 0.9375 - val_loss: 0.4128 - val_acc: 0.8832\n",
      "Epoch 11/18\n",
      "1600/1600 [==============================] - 10s 6ms/step - loss: 0.3031 - acc: 0.9306 - val_loss: 0.4209 - val_acc: 0.8648\n",
      "Epoch 12/18\n",
      "1600/1600 [==============================] - 10s 6ms/step - loss: 0.2583 - acc: 0.9375 - val_loss: 0.3789 - val_acc: 0.8914\n",
      "Epoch 13/18\n",
      "1600/1600 [==============================] - 10s 6ms/step - loss: 0.1928 - acc: 0.9606 - val_loss: 0.3643 - val_acc: 0.8914\n",
      "Epoch 14/18\n",
      "1600/1600 [==============================] - 10s 6ms/step - loss: 0.1686 - acc: 0.9650 - val_loss: 0.3586 - val_acc: 0.8955\n",
      "Epoch 15/18\n",
      "1600/1600 [==============================] - 10s 6ms/step - loss: 0.1521 - acc: 0.9688 - val_loss: 0.3500 - val_acc: 0.8934\n",
      "Epoch 16/18\n",
      "1600/1600 [==============================] - 10s 6ms/step - loss: 0.1688 - acc: 0.9600 - val_loss: 0.5081 - val_acc: 0.8422\n",
      "Epoch 17/18\n",
      "1600/1600 [==============================] - 10s 6ms/step - loss: 0.2155 - acc: 0.9444 - val_loss: 0.5639 - val_acc: 0.8340\n",
      "Epoch 18/18\n",
      "1600/1600 [==============================] - 10s 6ms/step - loss: 0.1461 - acc: 0.9675 - val_loss: 0.3621 - val_acc: 0.9016\n"
     ]
    }
   ],
   "source": [
    "from keras.models import Sequential\n",
    "from keras.layers import Flatten, Dense, Embedding\n",
    "from keras.layers import LSTM\n",
    "import tensorflow as tf\n",
    "\n",
    "with tf.device('/cpu:0'): # because CPU is faster than GPU\n",
    "    model = Sequential()\n",
    "    model.add(Embedding(15000, 100, input_length=maxlen))\n",
    "    model.add(LSTM(32))\n",
    "    model.add(Dense(4, activation='sigmoid'))\n",
    "    model.compile(optimizer='adam', loss='categorical_crossentropy', metrics=['acc'])\n",
    "    model.summary()\n",
    "\n",
    "    history = model.fit(x_train, y_train, epochs=18, batch_size=100, validation_split=0.2, validation_data=(x_val, y_val))"
   ]
  },
  {
   "cell_type": "code",
   "execution_count": 17,
   "metadata": {},
   "outputs": [
    {
     "data": {
      "image/png": "[encoded data removed]",
      "text/plain": [
       "<matplotlib.figure.Figure at 0x7fed83d089b0>"
      ]
     },
     "metadata": {},
     "output_type": "display_data"
    },
    {
     "data": {
      "image/png": "[encoded data removed]",
      "text/plain": [
       "<matplotlib.figure.Figure at 0x7fed82552438>"
      ]
     },
     "metadata": {},
     "output_type": "display_data"
    }
   ],
   "source": [
    "%matplotlib inline\n",
    "\n",
    "import matplotlib.pyplot as plt\n",
    "\n",
    "acc = history.history['acc']\n",
    "val_acc = history.history['val_acc']\n",
    "loss = history.history['loss']\n",
    "val_loss = history.history['val_loss']\n",
    "\n",
    "epochs = range(1, len(acc) + 1)\n",
    "\n",
    "plt.plot(epochs, acc, 'bo', label='Training acc')\n",
    "plt.plot(epochs, val_acc, 'b', label='Validation acc')\n",
    "plt.title('Training and validation accuracy')\n",
    "plt.legend()\n",
    "\n",
    "plt.figure()\n",
    "\n",
    "plt.plot(epochs, loss, 'bo', label='Training loss')\n",
    "plt.plot(epochs, val_loss, 'b', label='Validation loss')\n",
    "plt.title('Training and validation loss')\n",
    "plt.legend()\n",
    "\n",
    "plt.show()"
   ]
  },
  {
   "cell_type": "code",
   "execution_count": 19,
   "metadata": {
    "scrolled": true
   },
   "outputs": [],
   "source": [
    "model.save('pre_trained_model.h5')"
   ]
  }
 ],
 "metadata": {
  "kernelspec": {
   "display_name": "Python 3",
   "language": "python",
   "name": "python3"
  },
  "language_info": {
   "codemirror_mode": {
    "name": "ipython",
    "version": 3
   },
   "file_extension": ".py",
   "mimetype": "text/x-python",
   "name": "python",
   "nbconvert_exporter": "python",
   "pygments_lexer": "ipython3",
   "version": "3.5.2"
  }
 },
 "nbformat": 4,
 "nbformat_minor": 2
}
